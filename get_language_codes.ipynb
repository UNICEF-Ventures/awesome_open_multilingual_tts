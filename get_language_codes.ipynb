{
 "cells": [
  {
   "cell_type": "code",
   "execution_count": 1,
   "id": "61940ded-be0a-419a-86f9-921076d5f4c3",
   "metadata": {
    "execution": {
     "iopub.execute_input": "2024-11-08T15:46:25.565790Z",
     "iopub.status.busy": "2024-11-08T15:46:25.563776Z",
     "iopub.status.idle": "2024-11-08T15:46:53.371189Z",
     "shell.execute_reply": "2024-11-08T15:46:53.370175Z",
     "shell.execute_reply.started": "2024-11-08T15:46:25.565790Z"
    }
   },
   "outputs": [],
   "source": [
    "import pandas as pd\n",
    "import subprocess\n",
    "import json\n",
    "import urllib.request, json \n",
    "from bs4 import BeautifulSoup\n",
    "from TTS.api import TTS # Coqui\n",
    "import numpy as np\n",
    "import languagecodes\n",
    "import pycountry"
   ]
  },
  {
   "cell_type": "markdown",
   "id": "8070949e-b6ca-4b20-9824-22666d88e12d",
   "metadata": {},
   "source": [
    "# Get meta codes"
   ]
  },
  {
   "attachments": {},
   "cell_type": "markdown",
   "id": "d564b766-442d-452f-a105-748dbd3ec785",
   "metadata": {},
   "source": [
    "### ISO 639 codes\n",
    "\n",
    "- Set 1: Alpha 2 code\n",
    "- Set 2: Alpha 3 code (deprecated)\n",
    "- Set 3: Alpha 3 code for comprehensive coverage\n",
    "- Set 5: ALpha 3 code for language families and groups\n",
    "- Set 6: Alpha 4 representation for comprehensive coverage of language variants (withdrawn)\n",
    "  \n",
    "https://en.wikipedia.org/wiki/List_of_ISO_639_language_codes\n",
    "https://en.wikipedia.org/wiki/ISO_639\n",
    "https://iso639-3.sil.org/code_tables/639/"
   ]
  },
  {
   "cell_type": "markdown",
   "id": "7ec9937b-81e3-4f1b-90b3-ea3a6e9a0b4c",
   "metadata": {},
   "source": [
    "### BCP-47 codes\n",
    "\n",
    "- First part contains ISO-2 or ISO-3 codes\n",
    "\n",
    "https://www.w3.org/International/articles/language-tags/\n",
    "https://stackoverflow.com/questions/26085570/how-to-convert-ietf-bcp-47-language-identifier-to-iso-639-2"
   ]
  },
  {
   "cell_type": "markdown",
   "id": "1ccc57c0-8b05-4aeb-8f64-dddfb979bb84",
   "metadata": {},
   "source": [
    "### Codes by model"
   ]
  },
  {
   "cell_type": "markdown",
   "id": "58d7093c-9a1f-4562-933f-82becabeb47d",
   "metadata": {
    "execution": {
     "iopub.execute_input": "2024-11-07T10:17:16.332292Z",
     "iopub.status.busy": "2024-11-07T10:17:16.331292Z",
     "iopub.status.idle": "2024-11-07T10:17:16.354861Z",
     "shell.execute_reply": "2024-11-07T10:17:16.351842Z",
     "shell.execute_reply.started": "2024-11-07T10:17:16.332292Z"
    }
   },
   "source": [
    "Model | N languages| Codes used | Multiple speakers per language code    \n",
    "---|---|---|---   \n",
    "Meta MMS | 1108 | ISO 693-3  | No  \n",
    "Toucan | 7233  |  ISO 693-3 for 7225 languages PLUS BCP-47 codes for 8 additional languages | No\n",
    "espeak_NG | 112 | BCP-47 | No\n",
    "Piper | 37 | locales (BCP-47?) | Yes\n",
    "Coqui | 37 | ISO-693-2 | Yes"
   ]
  },
  {
   "cell_type": "markdown",
   "id": "97cbf6c2-08b7-46af-803c-1e84f2de2d05",
   "metadata": {},
   "source": [
    "# Parse doc for individual TTS systems"
   ]
  },
  {
   "cell_type": "markdown",
   "id": "88f48295-3b48-46e2-884d-04135b0b6ea2",
   "metadata": {},
   "source": [
    "## Meta MMS\n"
   ]
  },
  {
   "cell_type": "markdown",
   "id": "72d7232f-13e8-48bc-9209-fdf091e1fa8b",
   "metadata": {},
   "source": [
    "https://dl.fbaipublicfiles.com/mms/misc/language_coverage_mms.html"
   ]
  },
  {
   "cell_type": "code",
   "execution_count": 2,
   "id": "65caa3f1-5569-4c09-8a22-c72caca58455",
   "metadata": {
    "execution": {
     "iopub.execute_input": "2024-11-08T15:46:53.375195Z",
     "iopub.status.busy": "2024-11-08T15:46:53.373189Z",
     "iopub.status.idle": "2024-11-08T15:46:57.691517Z",
     "shell.execute_reply": "2024-11-08T15:46:57.690485Z",
     "shell.execute_reply.started": "2024-11-08T15:46:53.375195Z"
    }
   },
   "outputs": [],
   "source": [
    "with urllib.request.urlopen(\"https://dl.fbaipublicfiles.com/mms/misc/language_coverage_mms.html\") as url:\n",
    "   soup = BeautifulSoup(url, 'html.parser')"
   ]
  },
  {
   "cell_type": "code",
   "execution_count": 3,
   "id": "43a0d7d2-502c-4d2f-abcc-7459ee36f22d",
   "metadata": {
    "execution": {
     "iopub.execute_input": "2024-11-08T15:46:57.696523Z",
     "iopub.status.busy": "2024-11-08T15:46:57.695501Z",
     "iopub.status.idle": "2024-11-08T15:46:57.977512Z",
     "shell.execute_reply": "2024-11-08T15:46:57.976503Z",
     "shell.execute_reply.started": "2024-11-08T15:46:57.696523Z"
    }
   },
   "outputs": [],
   "source": [
    "# Extract the table\n",
    "tables = soup.find_all('table')\n",
    "table = tables[0]\n",
    "\n",
    "new_table = []\n",
    "for row in table.find_all('tr'):\n",
    "    new_row = []\n",
    "    for col in row.find_all('td'):\n",
    "       new_row.append(col.text)\n",
    "        \n",
    "    if new_row!=[]:\n",
    "        new_table.append(new_row)"
   ]
  },
  {
   "cell_type": "code",
   "execution_count": 4,
   "id": "7f587bd4-6f62-487f-a836-d2a162d473c7",
   "metadata": {
    "execution": {
     "iopub.execute_input": "2024-11-08T15:46:57.979510Z",
     "iopub.status.busy": "2024-11-08T15:46:57.979510Z",
     "iopub.status.idle": "2024-11-08T15:46:57.990018Z",
     "shell.execute_reply": "2024-11-08T15:46:57.988008Z",
     "shell.execute_reply.started": "2024-11-08T15:46:57.979510Z"
    }
   },
   "outputs": [],
   "source": [
    "# Save to dataframe \n",
    "meta_mms = pd.DataFrame(new_table, \n",
    "             columns = [\"iso_693_3\",\"language_name\",\"asr\",\"tts\",\"lid\", \"link\"])"
   ]
  },
  {
   "cell_type": "code",
   "execution_count": 5,
   "id": "98e067aa-8527-4d0c-a0a8-9dc44155a50f",
   "metadata": {
    "execution": {
     "iopub.execute_input": "2024-11-08T15:46:57.992025Z",
     "iopub.status.busy": "2024-11-08T15:46:57.991142Z",
     "iopub.status.idle": "2024-11-08T15:46:58.033079Z",
     "shell.execute_reply": "2024-11-08T15:46:58.032031Z",
     "shell.execute_reply.started": "2024-11-08T15:46:57.992025Z"
    }
   },
   "outputs": [],
   "source": [
    "# Export\n",
    "meta_mms.drop(columns=['link'], inplace=True)\n",
    "meta_mms.to_csv(\"language_codes/meta_mms.csv\", encoding=\"utf-8\", index=False)"
   ]
  },
  {
   "cell_type": "code",
   "execution_count": 6,
   "id": "305a798b-910d-4703-ac62-83fb48bfa3ae",
   "metadata": {
    "execution": {
     "iopub.execute_input": "2024-11-08T15:46:58.037054Z",
     "iopub.status.busy": "2024-11-08T15:46:58.036053Z",
     "iopub.status.idle": "2024-11-08T15:46:58.050571Z",
     "shell.execute_reply": "2024-11-08T15:46:58.049557Z",
     "shell.execute_reply.started": "2024-11-08T15:46:58.037054Z"
    }
   },
   "outputs": [],
   "source": [
    "meta_mms = meta_mms[meta_mms.tts!=\"\"].copy()"
   ]
  },
  {
   "cell_type": "code",
   "execution_count": 7,
   "id": "ddd14b0a-9d1f-490e-b144-dcbd58a0c107",
   "metadata": {
    "execution": {
     "iopub.execute_input": "2024-11-08T15:46:58.056583Z",
     "iopub.status.busy": "2024-11-08T15:46:58.053588Z",
     "iopub.status.idle": "2024-11-08T15:46:58.090143Z",
     "shell.execute_reply": "2024-11-08T15:46:58.087115Z",
     "shell.execute_reply.started": "2024-11-08T15:46:58.056583Z"
    }
   },
   "outputs": [
    {
     "data": {
      "text/plain": [
       "(1108, 5)"
      ]
     },
     "execution_count": 7,
     "metadata": {},
     "output_type": "execute_result"
    }
   ],
   "source": [
    "# N languages\n",
    "meta_mms.shape"
   ]
  },
  {
   "cell_type": "markdown",
   "id": "0b5b9dae-2780-40da-bbff-a54e7d1bc00f",
   "metadata": {},
   "source": [
    "## Toucan"
   ]
  },
  {
   "cell_type": "markdown",
   "id": "40cbd221-e61d-4acb-8359-cc31fc3f2daf",
   "metadata": {},
   "source": [
    "https://github.com/DigitalPhonetics/IMS-Toucan/blob/MassiveScaleToucan/Utility/language_list.md"
   ]
  },
  {
   "cell_type": "code",
   "execution_count": 8,
   "id": "2790aeaa-c89b-4976-a77e-98525f938ee3",
   "metadata": {
    "execution": {
     "iopub.execute_input": "2024-11-08T15:46:58.095150Z",
     "iopub.status.busy": "2024-11-08T15:46:58.094143Z",
     "iopub.status.idle": "2024-11-08T15:47:01.871336Z",
     "shell.execute_reply": "2024-11-08T15:47:01.869891Z",
     "shell.execute_reply.started": "2024-11-08T15:46:58.095150Z"
    }
   },
   "outputs": [],
   "source": [
    "with urllib.request.urlopen(\"https://github.com/DigitalPhonetics/IMS-Toucan/blob/MassiveScaleToucan/Utility/language_list.md\") as url:\n",
    "   soup = BeautifulSoup(url, 'html.parser')"
   ]
  },
  {
   "cell_type": "code",
   "execution_count": 9,
   "id": "4fbe7e80-8074-4c11-9fc2-f34c9120f4f3",
   "metadata": {
    "execution": {
     "iopub.execute_input": "2024-11-08T15:47:01.873389Z",
     "iopub.status.busy": "2024-11-08T15:47:01.873389Z",
     "iopub.status.idle": "2024-11-08T15:47:02.135735Z",
     "shell.execute_reply": "2024-11-08T15:47:02.134408Z",
     "shell.execute_reply.started": "2024-11-08T15:47:01.873389Z"
    }
   },
   "outputs": [],
   "source": [
    "# Extract the table\n",
    "tables = soup.find_all('table')\n",
    "\n",
    "table = tables[0]\n",
    "\n",
    "new_table = []\n",
    "for row in table.find_all('tr'):\n",
    "    new_row = []\n",
    "    for col in row.find_all('td'):\n",
    "       new_row.append(col.text)\n",
    "        \n",
    "    if new_row!=[]:\n",
    "        new_table.append(new_row)"
   ]
  },
  {
   "cell_type": "code",
   "execution_count": 10,
   "id": "58201763-5a66-4f9c-8571-02cc5b6ded18",
   "metadata": {
    "execution": {
     "iopub.execute_input": "2024-11-08T15:47:02.139751Z",
     "iopub.status.busy": "2024-11-08T15:47:02.137755Z",
     "iopub.status.idle": "2024-11-08T15:47:02.157042Z",
     "shell.execute_reply": "2024-11-08T15:47:02.154012Z",
     "shell.execute_reply.started": "2024-11-08T15:47:02.138754Z"
    }
   },
   "outputs": [],
   "source": [
    "# Save to dataframe \n",
    "toucan = pd.DataFrame(new_table,\n",
    "                      columns = [\"iso_693_3\",\"language_name\"])"
   ]
  },
  {
   "cell_type": "code",
   "execution_count": 11,
   "id": "48e2f2e4-7fbc-431b-ba35-053056ec5a74",
   "metadata": {
    "execution": {
     "iopub.execute_input": "2024-11-08T15:47:02.162084Z",
     "iopub.status.busy": "2024-11-08T15:47:02.161038Z",
     "iopub.status.idle": "2024-11-08T15:47:02.225489Z",
     "shell.execute_reply": "2024-11-08T15:47:02.225489Z",
     "shell.execute_reply.started": "2024-11-08T15:47:02.162084Z"
    }
   },
   "outputs": [
    {
     "data": {
      "text/html": [
       "<div>\n",
       "<style scoped>\n",
       "    .dataframe tbody tr th:only-of-type {\n",
       "        vertical-align: middle;\n",
       "    }\n",
       "\n",
       "    .dataframe tbody tr th {\n",
       "        vertical-align: top;\n",
       "    }\n",
       "\n",
       "    .dataframe thead th {\n",
       "        text-align: right;\n",
       "    }\n",
       "</style>\n",
       "<table border=\"1\" class=\"dataframe\">\n",
       "  <thead>\n",
       "    <tr style=\"text-align: right;\">\n",
       "      <th></th>\n",
       "      <th>iso_693_3</th>\n",
       "      <th>language_name</th>\n",
       "    </tr>\n",
       "  </thead>\n",
       "  <tbody>\n",
       "    <tr>\n",
       "      <th>0</th>\n",
       "      <td>aaa</td>\n",
       "      <td>Ghotuo</td>\n",
       "    </tr>\n",
       "    <tr>\n",
       "      <th>1</th>\n",
       "      <td>aab</td>\n",
       "      <td>Alumu-Tesu</td>\n",
       "    </tr>\n",
       "  </tbody>\n",
       "</table>\n",
       "</div>"
      ],
      "text/plain": [
       "  iso_693_3 language_name\n",
       "0       aaa        Ghotuo\n",
       "1       aab    Alumu-Tesu"
      ]
     },
     "execution_count": 11,
     "metadata": {},
     "output_type": "execute_result"
    }
   ],
   "source": [
    "# Export\n",
    "toucan.to_csv(\"language_codes/ims_toucan.csv\", encoding=\"utf-8\", index=False)\n",
    "toucan.head(2)"
   ]
  },
  {
   "cell_type": "code",
   "execution_count": 12,
   "id": "bf3186d6-6dd1-441a-9a98-53e466e28332",
   "metadata": {
    "execution": {
     "iopub.execute_input": "2024-11-08T15:47:02.235026Z",
     "iopub.status.busy": "2024-11-08T15:47:02.234011Z",
     "iopub.status.idle": "2024-11-08T15:47:02.271153Z",
     "shell.execute_reply": "2024-11-08T15:47:02.270131Z",
     "shell.execute_reply.started": "2024-11-08T15:47:02.235026Z"
    },
    "scrolled": true
   },
   "outputs": [
    {
     "data": {
      "text/html": [
       "<div>\n",
       "<style scoped>\n",
       "    .dataframe tbody tr th:only-of-type {\n",
       "        vertical-align: middle;\n",
       "    }\n",
       "\n",
       "    .dataframe tbody tr th {\n",
       "        vertical-align: top;\n",
       "    }\n",
       "\n",
       "    .dataframe thead th {\n",
       "        text-align: right;\n",
       "    }\n",
       "</style>\n",
       "<table border=\"1\" class=\"dataframe\">\n",
       "  <thead>\n",
       "    <tr style=\"text-align: right;\">\n",
       "      <th></th>\n",
       "      <th>iso_693_3</th>\n",
       "      <th>language_name</th>\n",
       "    </tr>\n",
       "  </thead>\n",
       "  <tbody>\n",
       "    <tr>\n",
       "      <th>7225</th>\n",
       "      <td>en-us</td>\n",
       "      <td>American English</td>\n",
       "    </tr>\n",
       "    <tr>\n",
       "      <th>7226</th>\n",
       "      <td>en-sc</td>\n",
       "      <td>Scottish English</td>\n",
       "    </tr>\n",
       "    <tr>\n",
       "      <th>7227</th>\n",
       "      <td>fr-be</td>\n",
       "      <td>Belgian French</td>\n",
       "    </tr>\n",
       "    <tr>\n",
       "      <th>7228</th>\n",
       "      <td>fr-sw</td>\n",
       "      <td>Swiss French</td>\n",
       "    </tr>\n",
       "    <tr>\n",
       "      <th>7229</th>\n",
       "      <td>pt-br</td>\n",
       "      <td>Brazilian Portuguese</td>\n",
       "    </tr>\n",
       "    <tr>\n",
       "      <th>7230</th>\n",
       "      <td>spa-lat</td>\n",
       "      <td>Latin American Spanish</td>\n",
       "    </tr>\n",
       "    <tr>\n",
       "      <th>7231</th>\n",
       "      <td>vi-ctr</td>\n",
       "      <td>Central Vietnamese</td>\n",
       "    </tr>\n",
       "    <tr>\n",
       "      <th>7232</th>\n",
       "      <td>vi-so</td>\n",
       "      <td>Southern Vietnamese</td>\n",
       "    </tr>\n",
       "  </tbody>\n",
       "</table>\n",
       "</div>"
      ],
      "text/plain": [
       "     iso_693_3           language_name\n",
       "7225     en-us        American English\n",
       "7226     en-sc        Scottish English\n",
       "7227     fr-be          Belgian French\n",
       "7228     fr-sw            Swiss French\n",
       "7229     pt-br    Brazilian Portuguese\n",
       "7230   spa-lat  Latin American Spanish\n",
       "7231    vi-ctr      Central Vietnamese\n",
       "7232     vi-so     Southern Vietnamese"
      ]
     },
     "execution_count": 12,
     "metadata": {},
     "output_type": "execute_result"
    }
   ],
   "source": [
    "# Find BCP-like codes for language variants that have been added beyond the iso-693-3 standard\n",
    "toucan_bcps = toucan[toucan.iso_693_3.str.contains(\"-\")].iso_693_3.unique()\n",
    "toucan[toucan.iso_693_3.str.contains(\"-\")]"
   ]
  },
  {
   "cell_type": "markdown",
   "id": "e37809d5-8029-41b2-adf7-baac85900ee5",
   "metadata": {},
   "source": [
    "## espeak NG"
   ]
  },
  {
   "cell_type": "markdown",
   "id": "8b0497cf-b381-45d1-85cd-dc6c1ffb245d",
   "metadata": {},
   "source": [
    "https://github.com/espeak-ng/espeak-ng/blob/master/docs/languages.md"
   ]
  },
  {
   "cell_type": "code",
   "execution_count": 13,
   "id": "6846ca5b-68c0-4556-bd27-364e4e4d554e",
   "metadata": {
    "execution": {
     "iopub.execute_input": "2024-11-08T15:47:02.275151Z",
     "iopub.status.busy": "2024-11-08T15:47:02.274160Z",
     "iopub.status.idle": "2024-11-08T15:47:03.684506Z",
     "shell.execute_reply": "2024-11-08T15:47:03.683489Z",
     "shell.execute_reply.started": "2024-11-08T15:47:02.275151Z"
    }
   },
   "outputs": [],
   "source": [
    "with urllib.request.urlopen(\"https://raw.githubusercontent.com/espeak-ng/espeak-ng/refs/heads/master/docs/languages.md\") as url:\n",
    "    content =  url.read().decode(url.headers.get_content_charset())"
   ]
  },
  {
   "cell_type": "code",
   "execution_count": 14,
   "id": "708df95c-74f9-4653-9786-07619b56f8f9",
   "metadata": {
    "execution": {
     "iopub.execute_input": "2024-11-08T15:47:03.688509Z",
     "iopub.status.busy": "2024-11-08T15:47:03.687516Z",
     "iopub.status.idle": "2024-11-08T15:47:03.699510Z",
     "shell.execute_reply": "2024-11-08T15:47:03.696489Z",
     "shell.execute_reply.started": "2024-11-08T15:47:03.688509Z"
    }
   },
   "outputs": [],
   "source": [
    "# Parse\n",
    "content = content.split(\"\\n\\n\")[3].replace(\"`\", \"\")\n",
    "content = content.split(\"\\n\")"
   ]
  },
  {
   "cell_type": "code",
   "execution_count": 15,
   "id": "a9e7aeee-6114-40db-a8bc-7ec8ef33f998",
   "metadata": {
    "execution": {
     "iopub.execute_input": "2024-11-08T15:47:03.703667Z",
     "iopub.status.busy": "2024-11-08T15:47:03.702669Z",
     "iopub.status.idle": "2024-11-08T15:47:03.740841Z",
     "shell.execute_reply": "2024-11-08T15:47:03.737815Z",
     "shell.execute_reply.started": "2024-11-08T15:47:03.703667Z"
    }
   },
   "outputs": [],
   "source": [
    "# Convert to data frame\n",
    "espeak = pd.DataFrame([[ j.strip() for j in i.split(\"|\")] for i in content][2:])\n",
    "espeak = espeak.replace(\"\", np.nan).dropna(how=\"all\", axis=1)\n",
    "espeak.columns=[\"iso_639_5\", \"bcp_47\", \"language_family\", \"language_name\", \"accent_dialect\" ]"
   ]
  },
  {
   "cell_type": "code",
   "execution_count": 16,
   "id": "8d6191b2-1481-428f-8a46-36d7f24c504a",
   "metadata": {
    "execution": {
     "iopub.execute_input": "2024-11-08T15:47:03.746909Z",
     "iopub.status.busy": "2024-11-08T15:47:03.744873Z",
     "iopub.status.idle": "2024-11-08T15:47:03.766603Z",
     "shell.execute_reply": "2024-11-08T15:47:03.764101Z",
     "shell.execute_reply.started": "2024-11-08T15:47:03.746909Z"
    }
   },
   "outputs": [],
   "source": [
    "corrections = { \n",
    "    # Match onto Toucan without change\n",
    "        #'en-us':'en-us',\n",
    "        #'fr-be':'fr-be',\n",
    "        #'pt-br':'pt-br',\n",
    "    # No clear map\n",
    "        #'en-029': np.nan, \n",
    "        #'en-gb-x-gbclan': np.nan,\n",
    "        #'en-gb-x-rp': np.nan,\n",
    "        #'fa-latn': np.nan, \n",
    "        #'en-gb-x-gbcwmd': np.nan,\n",
    "    ###################'fa': \"pes\", --> some ambiguity with Farsi (fas)\n",
    "    ####################'ru-lv' : \"lav\", --> some ambiguity with Latvian vs. Russian Latvian\n",
    "    'en-gb-scotland': \"en-sc\",\n",
    "    'fr-ch': \"fr-sw\",\n",
    "    'es-419': \"spa-lat\",\n",
    "    'vi-vn-x-central': \"vi-ctr\",\n",
    "    'vi-vn-x-south': \"vi-so\"}"
   ]
  },
  {
   "cell_type": "code",
   "execution_count": 17,
   "id": "88ef32b3-b488-4363-9a2a-4e1f74bcb22a",
   "metadata": {
    "execution": {
     "iopub.execute_input": "2024-11-08T15:47:03.771796Z",
     "iopub.status.busy": "2024-11-08T15:47:03.770791Z",
     "iopub.status.idle": "2024-11-08T15:47:03.925743Z",
     "shell.execute_reply": "2024-11-08T15:47:03.924731Z",
     "shell.execute_reply.started": "2024-11-08T15:47:03.771796Z"
    }
   },
   "outputs": [],
   "source": [
    "# Get iso 693-3 codes\n",
    "espeak = espeak[espeak.language_family!=\"Constructed\"].copy() # Remove fake languages\n",
    "\n",
    "espeak[\"iso_693_3\"] = np.nan\n",
    "\n",
    "for i, row in espeak.iterrows():\n",
    "    if row.bcp_47 in toucan_bcps:\n",
    "        espeak.loc[i, \"iso_693_3\"] = row.bcp_47\n",
    "    elif row.bcp_47 in corrections.keys():\n",
    "        espeak.loc[i, \"iso_693_3\"] = corrections[row.bcp_47]\n",
    "    else:\n",
    "        prefix = row.bcp_47.split(\"-\")[0]\n",
    "        if len(prefix) == 3:\n",
    "            espeak.loc[i, \"iso_693_3\"] = prefix\n",
    "        elif len(prefix) == 2:\n",
    "            espeak.loc[i, \"iso_693_3\"] = pycountry.languages.get(alpha_2=prefix).alpha_3"
   ]
  },
  {
   "cell_type": "code",
   "execution_count": 18,
   "id": "f74fe25f-dff2-463a-82a2-162f3fbd607e",
   "metadata": {
    "execution": {
     "iopub.execute_input": "2024-11-08T15:47:03.928794Z",
     "iopub.status.busy": "2024-11-08T15:47:03.927789Z",
     "iopub.status.idle": "2024-11-08T15:47:03.947059Z",
     "shell.execute_reply": "2024-11-08T15:47:03.944035Z",
     "shell.execute_reply.started": "2024-11-08T15:47:03.928794Z"
    }
   },
   "outputs": [],
   "source": [
    "# Drop duplicated iso_693_3 codes, keeping dominant variant. \n",
    "# This gets rid of Farsi with Roman spelling and Caribbean English, for example.\n",
    "\n",
    "espeak[espeak.iso_693_3.duplicated(keep=False)] \n",
    "espeak.drop_duplicates('iso_693_3', keep=\"first\", inplace=True)"
   ]
  },
  {
   "cell_type": "code",
   "execution_count": 19,
   "id": "a351a212-4714-4c6b-b025-18c533a94481",
   "metadata": {
    "execution": {
     "iopub.execute_input": "2024-11-08T15:47:03.952060Z",
     "iopub.status.busy": "2024-11-08T15:47:03.950063Z",
     "iopub.status.idle": "2024-11-08T15:47:04.009535Z",
     "shell.execute_reply": "2024-11-08T15:47:04.008480Z",
     "shell.execute_reply.started": "2024-11-08T15:47:03.952060Z"
    }
   },
   "outputs": [
    {
     "data": {
      "text/html": [
       "<div>\n",
       "<style scoped>\n",
       "    .dataframe tbody tr th:only-of-type {\n",
       "        vertical-align: middle;\n",
       "    }\n",
       "\n",
       "    .dataframe tbody tr th {\n",
       "        vertical-align: top;\n",
       "    }\n",
       "\n",
       "    .dataframe thead th {\n",
       "        text-align: right;\n",
       "    }\n",
       "</style>\n",
       "<table border=\"1\" class=\"dataframe\">\n",
       "  <thead>\n",
       "    <tr style=\"text-align: right;\">\n",
       "      <th></th>\n",
       "      <th>iso_639_5</th>\n",
       "      <th>bcp_47</th>\n",
       "      <th>language_family</th>\n",
       "      <th>language_name</th>\n",
       "      <th>accent_dialect</th>\n",
       "      <th>iso_693_3</th>\n",
       "    </tr>\n",
       "  </thead>\n",
       "  <tbody>\n",
       "    <tr>\n",
       "      <th>0</th>\n",
       "      <td>gmw</td>\n",
       "      <td>af</td>\n",
       "      <td>West Germanic</td>\n",
       "      <td>Afrikaans</td>\n",
       "      <td>NaN</td>\n",
       "      <td>afr</td>\n",
       "    </tr>\n",
       "    <tr>\n",
       "      <th>1</th>\n",
       "      <td>ine</td>\n",
       "      <td>sq</td>\n",
       "      <td>Indo-European</td>\n",
       "      <td>Albanian</td>\n",
       "      <td>NaN</td>\n",
       "      <td>sqi</td>\n",
       "    </tr>\n",
       "  </tbody>\n",
       "</table>\n",
       "</div>"
      ],
      "text/plain": [
       "  iso_639_5 bcp_47 language_family language_name accent_dialect iso_693_3\n",
       "0       gmw     af   West Germanic     Afrikaans            NaN       afr\n",
       "1       ine     sq   Indo-European      Albanian            NaN       sqi"
      ]
     },
     "execution_count": 19,
     "metadata": {},
     "output_type": "execute_result"
    }
   ],
   "source": [
    "# Export \n",
    "espeak.to_csv(\"language_codes/espeak_ng.csv\", encoding=\"utf-8\", index=False)\n",
    "espeak.head(2)"
   ]
  },
  {
   "cell_type": "markdown",
   "id": "fa777c22-e7a5-4804-a6b3-82e4b1cb2d39",
   "metadata": {},
   "source": [
    "## Coqui"
   ]
  },
  {
   "cell_type": "markdown",
   "id": "e6ab0533-8609-434d-801d-aff9d82a5c32",
   "metadata": {},
   "source": [
    "https://github.com/coqui-ai/TTS/blob/dev/TTS/.models.json"
   ]
  },
  {
   "cell_type": "code",
   "execution_count": 20,
   "id": "7663dd80-ad63-45a5-8c0c-0658870720c0",
   "metadata": {
    "execution": {
     "iopub.execute_input": "2024-11-08T15:47:04.014564Z",
     "iopub.status.busy": "2024-11-08T15:47:04.012504Z",
     "iopub.status.idle": "2024-11-08T15:47:21.010501Z",
     "shell.execute_reply": "2024-11-08T15:47:21.009994Z",
     "shell.execute_reply.started": "2024-11-08T15:47:04.014564Z"
    }
   },
   "outputs": [],
   "source": [
    "# Print models\n",
    "model_list = subprocess.check_output(['tts','--list_models'])"
   ]
  },
  {
   "cell_type": "code",
   "execution_count": 21,
   "id": "fedb2723-4b8d-40c3-b2a2-372d2307bc5f",
   "metadata": {
    "execution": {
     "iopub.execute_input": "2024-11-08T15:47:21.013014Z",
     "iopub.status.busy": "2024-11-08T15:47:21.013014Z",
     "iopub.status.idle": "2024-11-08T15:47:21.023113Z",
     "shell.execute_reply": "2024-11-08T15:47:21.021077Z",
     "shell.execute_reply.started": "2024-11-08T15:47:21.013014Z"
    }
   },
   "outputs": [],
   "source": [
    "# Clean the list \n",
    "model_list = str(model_list) \\\n",
    "    .replace(\"\\\\n\", \"\") \\\n",
    "    .replace(\" [already downloaded]\", \"\") \\\n",
    "    .split(\"\\\\r\")\n",
    "\n",
    "model_list = [i.strip().split(\": \")[-1] for i in model_list]\n",
    "model_list = [i.split(\"/\") + [i] for i in model_list]"
   ]
  },
  {
   "cell_type": "code",
   "execution_count": 22,
   "id": "1d9ca039-4b47-464c-b428-eccc9dab4351",
   "metadata": {
    "execution": {
     "iopub.execute_input": "2024-11-08T15:47:21.026889Z",
     "iopub.status.busy": "2024-11-08T15:47:21.025444Z",
     "iopub.status.idle": "2024-11-08T15:47:21.043257Z",
     "shell.execute_reply": "2024-11-08T15:47:21.042248Z",
     "shell.execute_reply.started": "2024-11-08T15:47:21.026889Z"
    }
   },
   "outputs": [],
   "source": [
    "# Save to dataframe\n",
    "coqui  = pd.DataFrame(model_list[2:], columns = model_list[1][:-1] + [\"path\"] )\n",
    "coqui = coqui[coqui['type'] == \"tts_models\"]"
   ]
  },
  {
   "cell_type": "code",
   "execution_count": 23,
   "id": "63edff8b-1a77-4053-b075-ef069a2ff70a",
   "metadata": {
    "execution": {
     "iopub.execute_input": "2024-11-08T15:47:21.046256Z",
     "iopub.status.busy": "2024-11-08T15:47:21.045257Z",
     "iopub.status.idle": "2024-11-08T15:47:21.088190Z",
     "shell.execute_reply": "2024-11-08T15:47:21.087177Z",
     "shell.execute_reply.started": "2024-11-08T15:47:21.046256Z"
    }
   },
   "outputs": [],
   "source": [
    "coqui.rename(columns = {\"language\":\"language_code\"}, inplace=True)\n",
    "\n",
    "# Drop multilingual models\n",
    "# TODO: Look into languages with multiple variants and how to support them with this interface\n",
    "coqui = coqui[~coqui.language_code.isin(['multilingual'])].copy()\n",
    "\n",
    "# Get iso 693-3 codes\n",
    "coqui['language_code'] = coqui['language_code'].apply(lambda x: x.split(\"-\")[0].split(\"_\")[0])\n",
    "coqui['iso_693_3'] = np.nan\n",
    "\n",
    "for i, row in coqui.iterrows():\n",
    "    if len(row.language_code)==3:\n",
    "        coqui.loc[i, 'iso_693_3']=row.language_code\n",
    "    elif len(row.language_code)==2:\n",
    "        coqui.loc[i, 'iso_693_3']=pycountry.languages.get(alpha_2=row.language_code).alpha_3"
   ]
  },
  {
   "cell_type": "code",
   "execution_count": 24,
   "id": "b8a0598a-6ff9-4995-8a68-a7f72aaf1e8f",
   "metadata": {
    "execution": {
     "iopub.execute_input": "2024-11-08T15:47:21.091728Z",
     "iopub.status.busy": "2024-11-08T15:47:21.090723Z",
     "iopub.status.idle": "2024-11-08T15:47:21.163643Z",
     "shell.execute_reply": "2024-11-08T15:47:21.162633Z",
     "shell.execute_reply.started": "2024-11-08T15:47:21.091728Z"
    }
   },
   "outputs": [
    {
     "data": {
      "text/html": [
       "<div>\n",
       "<style scoped>\n",
       "    .dataframe tbody tr th:only-of-type {\n",
       "        vertical-align: middle;\n",
       "    }\n",
       "\n",
       "    .dataframe tbody tr th {\n",
       "        vertical-align: top;\n",
       "    }\n",
       "\n",
       "    .dataframe thead th {\n",
       "        text-align: right;\n",
       "    }\n",
       "</style>\n",
       "<table border=\"1\" class=\"dataframe\">\n",
       "  <thead>\n",
       "    <tr style=\"text-align: right;\">\n",
       "      <th></th>\n",
       "      <th>type</th>\n",
       "      <th>language_code</th>\n",
       "      <th>dataset</th>\n",
       "      <th>model</th>\n",
       "      <th>path</th>\n",
       "      <th>iso_693_3</th>\n",
       "    </tr>\n",
       "  </thead>\n",
       "  <tbody>\n",
       "    <tr>\n",
       "      <th>4</th>\n",
       "      <td>tts_models</td>\n",
       "      <td>bg</td>\n",
       "      <td>cv</td>\n",
       "      <td>vits</td>\n",
       "      <td>tts_models/bg/cv/vits</td>\n",
       "      <td>bul</td>\n",
       "    </tr>\n",
       "    <tr>\n",
       "      <th>5</th>\n",
       "      <td>tts_models</td>\n",
       "      <td>cs</td>\n",
       "      <td>cv</td>\n",
       "      <td>vits</td>\n",
       "      <td>tts_models/cs/cv/vits</td>\n",
       "      <td>ces</td>\n",
       "    </tr>\n",
       "  </tbody>\n",
       "</table>\n",
       "</div>"
      ],
      "text/plain": [
       "         type language_code dataset model                   path iso_693_3\n",
       "4  tts_models            bg      cv  vits  tts_models/bg/cv/vits       bul\n",
       "5  tts_models            cs      cv  vits  tts_models/cs/cv/vits       ces"
      ]
     },
     "execution_count": 24,
     "metadata": {},
     "output_type": "execute_result"
    }
   ],
   "source": [
    "# Export\n",
    "coqui.to_csv(\"language_codes/coqui.csv\", encoding=\"utf-8\", index=False)\n",
    "coqui.head(2)"
   ]
  },
  {
   "cell_type": "code",
   "execution_count": 25,
   "id": "de3bb733-c6ef-4c8d-b000-fd15e32a10de",
   "metadata": {
    "execution": {
     "iopub.execute_input": "2024-11-08T15:47:21.165643Z",
     "iopub.status.busy": "2024-11-08T15:47:21.164643Z",
     "iopub.status.idle": "2024-11-08T15:47:21.181994Z",
     "shell.execute_reply": "2024-11-08T15:47:21.180982Z",
     "shell.execute_reply.started": "2024-11-08T15:47:21.165643Z"
    }
   },
   "outputs": [],
   "source": [
    "# Collapse to one observation per code\n",
    "coqui = coqui.groupby('iso_693_3')['path'].apply(list).reset_index()\n",
    "coqui.rename(columns={'path':'models'}, inplace=True)"
   ]
  },
  {
   "cell_type": "markdown",
   "id": "d6d8c2f1-9753-4de1-8c3f-2c51c4f27cae",
   "metadata": {},
   "source": [
    "## Piper"
   ]
  },
  {
   "cell_type": "markdown",
   "id": "c0c02de8-9533-4df4-abcb-a08a4d384486",
   "metadata": {},
   "source": [
    "https://huggingface.co/spaces/k2-fsa/text-to-speech/raw/main/model.py"
   ]
  },
  {
   "cell_type": "code",
   "execution_count": 26,
   "id": "5e78ebfd-688b-4be5-b465-6f8e44e7fcca",
   "metadata": {
    "execution": {
     "iopub.execute_input": "2024-11-08T15:47:21.182992Z",
     "iopub.status.busy": "2024-11-08T15:47:21.182992Z",
     "iopub.status.idle": "2024-11-08T15:47:22.375491Z",
     "shell.execute_reply": "2024-11-08T15:47:22.373405Z",
     "shell.execute_reply.started": "2024-11-08T15:47:21.182992Z"
    }
   },
   "outputs": [],
   "source": [
    "with urllib.request.urlopen(\"https://huggingface.co/spaces/k2-fsa/text-to-speech/raw/main/model.py\") as url:\n",
    "    content =  url.read().decode(url.headers.get_content_charset())"
   ]
  },
  {
   "cell_type": "code",
   "execution_count": 27,
   "id": "a29a3916-ab69-40f7-9fbe-c781ad538dbd",
   "metadata": {
    "execution": {
     "iopub.execute_input": "2024-11-08T15:47:22.378487Z",
     "iopub.status.busy": "2024-11-08T15:47:22.377464Z",
     "iopub.status.idle": "2024-11-08T15:47:22.392240Z",
     "shell.execute_reply": "2024-11-08T15:47:22.390042Z",
     "shell.execute_reply.started": "2024-11-08T15:47:22.378487Z"
    }
   },
   "outputs": [],
   "source": [
    "# Extract content \n",
    "content = content.split(\"\\n\")\n",
    "content = [i.split(':')[0] for i in content if \"vits-piper\" in i]\n",
    "content = [i.split('\"')[1] for i in content if '#' not in i.split('\"')[0]]\n",
    "content = content[1:]"
   ]
  },
  {
   "cell_type": "code",
   "execution_count": 28,
   "id": "26358fc2-a28a-42b0-85f4-dd81ab9ee463",
   "metadata": {
    "execution": {
     "iopub.execute_input": "2024-11-08T15:47:22.397540Z",
     "iopub.status.busy": "2024-11-08T15:47:22.395392Z",
     "iopub.status.idle": "2024-11-08T15:47:22.427267Z",
     "shell.execute_reply": "2024-11-08T15:47:22.424244Z",
     "shell.execute_reply.started": "2024-11-08T15:47:22.397540Z"
    }
   },
   "outputs": [],
   "source": [
    "# Convert to dataframe\n",
    "piper = pd.DataFrame(content, columns=['models'])"
   ]
  },
  {
   "cell_type": "code",
   "execution_count": 29,
   "id": "a9872475-c7eb-4272-a163-e41b386bdc0d",
   "metadata": {
    "execution": {
     "iopub.execute_input": "2024-11-08T15:47:22.433316Z",
     "iopub.status.busy": "2024-11-08T15:47:22.431827Z",
     "iopub.status.idle": "2024-11-08T15:47:22.481402Z",
     "shell.execute_reply": "2024-11-08T15:47:22.480385Z",
     "shell.execute_reply.started": "2024-11-08T15:47:22.433316Z"
    }
   },
   "outputs": [],
   "source": [
    "# Get iso 693-3 language codes\n",
    "piper['language_codes'] = piper['models'].apply(lambda x: x.split(\"-\")[2])\n",
    "\n",
    "piper['iso_693_3']= piper['language_codes'].apply(lambda x: pycountry.languages.get(alpha_2= x.split(\"_\")[0]).alpha_3)\n",
    "\n",
    "recodes = {'en_US': 'en-us',  'es_MX': 'spa-lat', 'pt_BR':'pt-br'}\n",
    "\n",
    "for i, row in piper.iterrows():\n",
    "    if row.language_codes in list(recodes.keys()):\n",
    "        piper.loc[i, 'iso_693_3'] = recodes[row.language_codes]"
   ]
  },
  {
   "cell_type": "code",
   "execution_count": 30,
   "id": "053f1a96-4e06-40e2-a603-8e9244ef9dfd",
   "metadata": {
    "execution": {
     "iopub.execute_input": "2024-11-08T15:47:22.484399Z",
     "iopub.status.busy": "2024-11-08T15:47:22.484399Z",
     "iopub.status.idle": "2024-11-08T15:47:22.517778Z",
     "shell.execute_reply": "2024-11-08T15:47:22.515285Z",
     "shell.execute_reply.started": "2024-11-08T15:47:22.484399Z"
    },
    "scrolled": true
   },
   "outputs": [
    {
     "data": {
      "text/html": [
       "<div>\n",
       "<style scoped>\n",
       "    .dataframe tbody tr th:only-of-type {\n",
       "        vertical-align: middle;\n",
       "    }\n",
       "\n",
       "    .dataframe tbody tr th {\n",
       "        vertical-align: top;\n",
       "    }\n",
       "\n",
       "    .dataframe thead th {\n",
       "        text-align: right;\n",
       "    }\n",
       "</style>\n",
       "<table border=\"1\" class=\"dataframe\">\n",
       "  <thead>\n",
       "    <tr style=\"text-align: right;\">\n",
       "      <th></th>\n",
       "      <th>models</th>\n",
       "      <th>language_codes</th>\n",
       "      <th>iso_693_3</th>\n",
       "    </tr>\n",
       "  </thead>\n",
       "  <tbody>\n",
       "    <tr>\n",
       "      <th>0</th>\n",
       "      <td>csukuangfj/vits-piper-zh_CN-huayan-medium</td>\n",
       "      <td>zh_CN</td>\n",
       "      <td>zho</td>\n",
       "    </tr>\n",
       "    <tr>\n",
       "      <th>1</th>\n",
       "      <td>csukuangfj/vits-piper-en_US-glados|1 speaker</td>\n",
       "      <td>en_US</td>\n",
       "      <td>en-us</td>\n",
       "    </tr>\n",
       "  </tbody>\n",
       "</table>\n",
       "</div>"
      ],
      "text/plain": [
       "                                         models language_codes iso_693_3\n",
       "0     csukuangfj/vits-piper-zh_CN-huayan-medium          zh_CN       zho\n",
       "1  csukuangfj/vits-piper-en_US-glados|1 speaker          en_US     en-us"
      ]
     },
     "execution_count": 30,
     "metadata": {},
     "output_type": "execute_result"
    }
   ],
   "source": [
    "# Export\n",
    "piper.to_csv(\"language_codes/piper.csv\", index=False, encoding=\"utf-8\")\n",
    "piper.head(2)"
   ]
  },
  {
   "cell_type": "code",
   "execution_count": 31,
   "id": "088ef5cd-aa7a-486a-9104-c218b10407f4",
   "metadata": {
    "execution": {
     "iopub.execute_input": "2024-11-08T15:47:22.520882Z",
     "iopub.status.busy": "2024-11-08T15:47:22.520040Z",
     "iopub.status.idle": "2024-11-08T15:47:22.533259Z",
     "shell.execute_reply": "2024-11-08T15:47:22.531907Z",
     "shell.execute_reply.started": "2024-11-08T15:47:22.520882Z"
    }
   },
   "outputs": [],
   "source": [
    "# Collapse to one row per code\n",
    "piper = piper.groupby(['iso_693_3'])['models'].apply(list).reset_index()"
   ]
  },
  {
   "cell_type": "markdown",
   "id": "615b6657-d3a5-4579-bde4-d81235b0b4aa",
   "metadata": {},
   "source": [
    "https://github.com/rhasspy/piper/blob/master/VOICES.md\n",
    "\n",
    "(Note: skip the below for now since piper demos are being supplied by k2-fsa site)"
   ]
  },
  {
   "cell_type": "markdown",
   "id": "a6394d92-b3d4-4b12-8566-52ceef042368",
   "metadata": {},
   "source": [
    "## African voices"
   ]
  },
  {
   "cell_type": "code",
   "execution_count": 32,
   "id": "2a84b27c-ddb0-4b24-99b7-8afcb02c7b04",
   "metadata": {
    "execution": {
     "iopub.execute_input": "2024-11-08T15:47:22.537644Z",
     "iopub.status.busy": "2024-11-08T15:47:22.536448Z",
     "iopub.status.idle": "2024-11-08T15:47:22.551026Z",
     "shell.execute_reply": "2024-11-08T15:47:22.550014Z",
     "shell.execute_reply.started": "2024-11-08T15:47:22.537644Z"
    }
   },
   "outputs": [],
   "source": [
    "# ! TODO"
   ]
  },
  {
   "cell_type": "markdown",
   "id": "67c65457-07a0-42c6-8a04-ec5aae697b6e",
   "metadata": {},
   "source": []
  },
  {
   "cell_type": "markdown",
   "id": "23f9a94c-f42c-4527-a77f-2ef8087239f0",
   "metadata": {},
   "source": [
    "# Merge into meta list"
   ]
  },
  {
   "cell_type": "code",
   "execution_count": 33,
   "id": "9b07be59-dad3-4b48-b9b8-27569093d1cf",
   "metadata": {
    "execution": {
     "iopub.execute_input": "2024-11-08T15:47:22.553029Z",
     "iopub.status.busy": "2024-11-08T15:47:22.553029Z",
     "iopub.status.idle": "2024-11-08T15:47:22.569834Z",
     "shell.execute_reply": "2024-11-08T15:47:22.568820Z",
     "shell.execute_reply.started": "2024-11-08T15:47:22.553029Z"
    }
   },
   "outputs": [],
   "source": [
    "# Get list of all codes across datasets\n",
    "iso_693_3 = set(\n",
    "    toucan.iso_693_3.unique().tolist() +\n",
    "    meta_mms.iso_693_3.unique().tolist() +\n",
    "    espeak.iso_693_3.unique().tolist() +\n",
    "    coqui.iso_693_3.unique().tolist() +\n",
    "    piper.iso_693_3.unique().tolist()\n",
    ") "
   ]
  },
  {
   "cell_type": "code",
   "execution_count": 34,
   "id": "691893ef-2e20-4e0b-a04d-c016f15e3805",
   "metadata": {
    "execution": {
     "iopub.execute_input": "2024-11-08T15:47:22.572887Z",
     "iopub.status.busy": "2024-11-08T15:47:22.571889Z",
     "iopub.status.idle": "2024-11-08T15:47:22.584019Z",
     "shell.execute_reply": "2024-11-08T15:47:22.583008Z",
     "shell.execute_reply.started": "2024-11-08T15:47:22.572887Z"
    }
   },
   "outputs": [],
   "source": [
    "all_tts = pd.DataFrame(index=list(iso_693_3)).reset_index()\n",
    "all_tts.columns = ['iso_693_3']"
   ]
  },
  {
   "cell_type": "code",
   "execution_count": 35,
   "id": "b7f9bcf5-f32f-49b9-ad70-0aae9850c21d",
   "metadata": {
    "execution": {
     "iopub.execute_input": "2024-11-08T15:47:22.587469Z",
     "iopub.status.busy": "2024-11-08T15:47:22.586467Z",
     "iopub.status.idle": "2024-11-08T15:47:22.599731Z",
     "shell.execute_reply": "2024-11-08T15:47:22.599731Z",
     "shell.execute_reply.started": "2024-11-08T15:47:22.587469Z"
    }
   },
   "outputs": [],
   "source": [
    "# Add suffix to columns of each individual dataset\n",
    "toucan.columns = [c + \"_toucan\" for c in toucan.columns]\n",
    "meta_mms.columns = [c + \"_meta_mms\" for c in meta_mms.columns]\n",
    "espeak.columns = [c + \"_espeak\" for c in espeak.columns]\n",
    "coqui.columns = [c + \"_coqui\" for c in coqui.columns]\n",
    "piper.columns = [c + \"_piper\" for c in piper.columns]"
   ]
  },
  {
   "cell_type": "code",
   "execution_count": 36,
   "id": "ca10fc59-094f-4346-abe8-0b9bb41a6c77",
   "metadata": {
    "execution": {
     "iopub.execute_input": "2024-11-08T15:47:22.602749Z",
     "iopub.status.busy": "2024-11-08T15:47:22.601751Z",
     "iopub.status.idle": "2024-11-08T15:47:22.668594Z",
     "shell.execute_reply": "2024-11-08T15:47:22.667582Z",
     "shell.execute_reply.started": "2024-11-08T15:47:22.602749Z"
    }
   },
   "outputs": [],
   "source": [
    "# Merge\n",
    "all_tts = all_tts.merge(toucan, left_on=\"iso_693_3\", right_on=\"iso_693_3_toucan\", how=\"left\")\n",
    "all_tts = all_tts.merge(meta_mms, left_on=\"iso_693_3\", right_on=\"iso_693_3_meta_mms\", how=\"left\")\n",
    "all_tts = all_tts.merge(espeak, left_on=\"iso_693_3\", right_on=\"iso_693_3_espeak\", how=\"left\")\n",
    "all_tts = all_tts.merge(coqui, left_on=\"iso_693_3\", right_on=\"iso_693_3_coqui\", how=\"left\")\n",
    "all_tts = all_tts.merge(piper, left_on=\"iso_693_3\", right_on=\"iso_693_3_piper\", how=\"left\")"
   ]
  },
  {
   "cell_type": "code",
   "execution_count": 37,
   "id": "26cc900c-8d6e-4db0-94fb-fc217055a504",
   "metadata": {
    "execution": {
     "iopub.execute_input": "2024-11-08T15:47:22.672129Z",
     "iopub.status.busy": "2024-11-08T15:47:22.670245Z",
     "iopub.status.idle": "2024-11-08T15:47:22.692544Z",
     "shell.execute_reply": "2024-11-08T15:47:22.691484Z",
     "shell.execute_reply.started": "2024-11-08T15:47:22.672129Z"
    }
   },
   "outputs": [],
   "source": [
    "# Locate the identifier for each tts model\n",
    "all_tts['toucan_id'] = all_tts['language_name_toucan'] + \" (\" + all_tts['iso_693_3_toucan'] +\")\"\n",
    "all_tts['meta_mms_id'] = all_tts['iso_693_3_meta_mms']\n",
    "all_tts['coqui_id'] = all_tts['models_coqui']\n",
    "all_tts['espeak_id'] = all_tts['bcp_47_espeak']\n",
    "all_tts['piper_id'] = all_tts['models_piper']"
   ]
  },
  {
   "cell_type": "code",
   "execution_count": 38,
   "id": "451f57a3-6662-4900-8d71-63ccf17a0212",
   "metadata": {
    "execution": {
     "iopub.execute_input": "2024-11-08T15:47:22.694552Z",
     "iopub.status.busy": "2024-11-08T15:47:22.693546Z",
     "iopub.status.idle": "2024-11-08T15:47:22.715176Z",
     "shell.execute_reply": "2024-11-08T15:47:22.714648Z",
     "shell.execute_reply.started": "2024-11-08T15:47:22.694552Z"
    }
   },
   "outputs": [],
   "source": [
    "all_tts['language_name'] = all_tts['language_name_toucan'].copy()\n",
    "\n",
    "all_tts['language_name'] = np.where(all_tts['language_name'].isna(), all_tts['language_name_meta_mms'], all_tts['language_name'])\n",
    "\n",
    "all_tts['language_name'] = np.where(all_tts['language_name'].isna(), all_tts['language_name_espeak'], all_tts['language_name'])\n",
    "\n",
    "all_tts.loc[all_tts['language_name'].isna() & (all_tts['iso_693_3']=='twi'), 'language_name'] = 'twi'\n",
    "all_tts.loc[all_tts['language_name'].isna() & (all_tts['iso_693_3']=='zho'), 'language_name'] = 'Chinese'"
   ]
  },
  {
   "cell_type": "code",
   "execution_count": 39,
   "id": "e5d8dbad-c100-41b9-b360-a191a8830f32",
   "metadata": {
    "execution": {
     "iopub.execute_input": "2024-11-08T15:47:22.724754Z",
     "iopub.status.busy": "2024-11-08T15:47:22.723757Z",
     "iopub.status.idle": "2024-11-08T15:47:22.738136Z",
     "shell.execute_reply": "2024-11-08T15:47:22.738136Z",
     "shell.execute_reply.started": "2024-11-08T15:47:22.724754Z"
    }
   },
   "outputs": [
    {
     "data": {
      "text/plain": [
       "Uzbek          2\n",
       "Azerbaijani    2\n",
       "Kurdish        2\n",
       "Oriya          2\n",
       "Konkani        2\n",
       "Oromo          2\n",
       "Persian        2\n",
       "Swahili        2\n",
       "Estonian       2\n",
       "Malay          2\n",
       "Albanian       2\n",
       "Kaingang       1\n",
       "Faifi          1\n",
       "Phana'         1\n",
       "Qabiao         1\n",
       "Name: language_name, dtype: int64"
      ]
     },
     "execution_count": 39,
     "metadata": {},
     "output_type": "execute_result"
    }
   ],
   "source": [
    "all_tts.language_name.value_counts().head(15)"
   ]
  },
  {
   "cell_type": "code",
   "execution_count": 40,
   "id": "c3fd50b8-ef99-4744-b69d-72c284190f84",
   "metadata": {
    "execution": {
     "iopub.execute_input": "2024-11-08T15:47:22.740678Z",
     "iopub.status.busy": "2024-11-08T15:47:22.740678Z",
     "iopub.status.idle": "2024-11-08T15:47:22.770661Z",
     "shell.execute_reply": "2024-11-08T15:47:22.769648Z",
     "shell.execute_reply.started": "2024-11-08T15:47:22.740678Z"
    }
   },
   "outputs": [
    {
     "data": {
      "text/html": [
       "<div>\n",
       "<style scoped>\n",
       "    .dataframe tbody tr th:only-of-type {\n",
       "        vertical-align: middle;\n",
       "    }\n",
       "\n",
       "    .dataframe tbody tr th {\n",
       "        vertical-align: top;\n",
       "    }\n",
       "\n",
       "    .dataframe thead th {\n",
       "        text-align: right;\n",
       "    }\n",
       "</style>\n",
       "<table border=\"1\" class=\"dataframe\">\n",
       "  <thead>\n",
       "    <tr style=\"text-align: right;\">\n",
       "      <th></th>\n",
       "      <th>iso_693_3</th>\n",
       "      <th>iso_693_3_toucan</th>\n",
       "      <th>language_name_toucan</th>\n",
       "      <th>iso_693_3_meta_mms</th>\n",
       "      <th>language_name_meta_mms</th>\n",
       "      <th>asr_meta_mms</th>\n",
       "      <th>tts_meta_mms</th>\n",
       "      <th>lid_meta_mms</th>\n",
       "      <th>iso_639_5_espeak</th>\n",
       "      <th>bcp_47_espeak</th>\n",
       "      <th>...</th>\n",
       "      <th>iso_693_3_coqui</th>\n",
       "      <th>models_coqui</th>\n",
       "      <th>iso_693_3_piper</th>\n",
       "      <th>models_piper</th>\n",
       "      <th>toucan_id</th>\n",
       "      <th>meta_mms_id</th>\n",
       "      <th>coqui_id</th>\n",
       "      <th>espeak_id</th>\n",
       "      <th>piper_id</th>\n",
       "      <th>language_name</th>\n",
       "    </tr>\n",
       "  </thead>\n",
       "  <tbody>\n",
       "    <tr>\n",
       "      <th>1190</th>\n",
       "      <td>hat</td>\n",
       "      <td>hat</td>\n",
       "      <td>Haitian Creole</td>\n",
       "      <td>hat</td>\n",
       "      <td>Haitian Creole</td>\n",
       "      <td>✔️</td>\n",
       "      <td>✔️</td>\n",
       "      <td>✔️</td>\n",
       "      <td>roa</td>\n",
       "      <td>ht</td>\n",
       "      <td>...</td>\n",
       "      <td>NaN</td>\n",
       "      <td>NaN</td>\n",
       "      <td>NaN</td>\n",
       "      <td>NaN</td>\n",
       "      <td>Haitian Creole (hat)</td>\n",
       "      <td>hat</td>\n",
       "      <td>NaN</td>\n",
       "      <td>ht</td>\n",
       "      <td>NaN</td>\n",
       "      <td>Haitian Creole</td>\n",
       "    </tr>\n",
       "  </tbody>\n",
       "</table>\n",
       "<p>1 rows × 24 columns</p>\n",
       "</div>"
      ],
      "text/plain": [
       "     iso_693_3 iso_693_3_toucan language_name_toucan iso_693_3_meta_mms  \\\n",
       "1190       hat              hat       Haitian Creole                hat   \n",
       "\n",
       "     language_name_meta_mms asr_meta_mms tts_meta_mms lid_meta_mms  \\\n",
       "1190         Haitian Creole           ✔️           ✔️           ✔️   \n",
       "\n",
       "     iso_639_5_espeak bcp_47_espeak  ... iso_693_3_coqui models_coqui  \\\n",
       "1190              roa            ht  ...             NaN          NaN   \n",
       "\n",
       "     iso_693_3_piper models_piper             toucan_id meta_mms_id coqui_id  \\\n",
       "1190             NaN          NaN  Haitian Creole (hat)         hat      NaN   \n",
       "\n",
       "     espeak_id piper_id   language_name  \n",
       "1190        ht      NaN  Haitian Creole  \n",
       "\n",
       "[1 rows x 24 columns]"
      ]
     },
     "execution_count": 40,
     "metadata": {},
     "output_type": "execute_result"
    }
   ],
   "source": [
    "all_tts[all_tts['language_name']=='Haitian Creole']"
   ]
  },
  {
   "cell_type": "markdown",
   "id": "b7077853-5fa7-436c-bced-bc9ced3dcd60",
   "metadata": {},
   "source": [
    "# Export"
   ]
  },
  {
   "cell_type": "code",
   "execution_count": 41,
   "id": "fdef4df7-ed4a-4158-a630-811cc971ba0b",
   "metadata": {
    "execution": {
     "iopub.execute_input": "2024-11-08T15:47:22.772661Z",
     "iopub.status.busy": "2024-11-08T15:47:22.771660Z",
     "iopub.status.idle": "2024-11-08T15:47:22.836980Z",
     "shell.execute_reply": "2024-11-08T15:47:22.835970Z",
     "shell.execute_reply.started": "2024-11-08T15:47:22.772661Z"
    }
   },
   "outputs": [],
   "source": [
    "# Allow people to look up model identifiers by ISO code\n",
    "model_lookups_by_iso = all_tts[['iso_693_3', 'language_name', 'toucan_id', 'meta_mms_id', 'coqui_id', 'piper_id', 'espeak_id']].sort_values(['language_name'])\n",
    "model_lookups_by_iso.to_csv(\"model_lookups_by_iso.csv\")"
   ]
  },
  {
   "cell_type": "code",
   "execution_count": 42,
   "id": "989bde4c-f078-4f85-b9d7-bff6efb129de",
   "metadata": {
    "execution": {
     "iopub.execute_input": "2024-11-08T15:47:22.838982Z",
     "iopub.status.busy": "2024-11-08T15:47:22.837981Z",
     "iopub.status.idle": "2024-11-08T15:47:22.857967Z",
     "shell.execute_reply": "2024-11-08T15:47:22.856610Z",
     "shell.execute_reply.started": "2024-11-08T15:47:22.838982Z"
    }
   },
   "outputs": [
    {
     "data": {
      "text/html": [
       "<div>\n",
       "<style scoped>\n",
       "    .dataframe tbody tr th:only-of-type {\n",
       "        vertical-align: middle;\n",
       "    }\n",
       "\n",
       "    .dataframe tbody tr th {\n",
       "        vertical-align: top;\n",
       "    }\n",
       "\n",
       "    .dataframe thead th {\n",
       "        text-align: right;\n",
       "    }\n",
       "</style>\n",
       "<table border=\"1\" class=\"dataframe\">\n",
       "  <thead>\n",
       "    <tr style=\"text-align: right;\">\n",
       "      <th></th>\n",
       "      <th>iso_693_3</th>\n",
       "      <th>language_name</th>\n",
       "      <th>toucan_id</th>\n",
       "      <th>meta_mms_id</th>\n",
       "      <th>coqui_id</th>\n",
       "      <th>piper_id</th>\n",
       "      <th>espeak_id</th>\n",
       "    </tr>\n",
       "  </thead>\n",
       "  <tbody>\n",
       "    <tr>\n",
       "      <th>1994</th>\n",
       "      <td>alu</td>\n",
       "      <td>'Are'are</td>\n",
       "      <td>'Are'are (alu)</td>\n",
       "      <td>NaN</td>\n",
       "      <td>NaN</td>\n",
       "      <td>NaN</td>\n",
       "      <td>NaN</td>\n",
       "    </tr>\n",
       "    <tr>\n",
       "      <th>1544</th>\n",
       "      <td>kud</td>\n",
       "      <td>'Auhelawa</td>\n",
       "      <td>'Auhelawa (kud)</td>\n",
       "      <td>NaN</td>\n",
       "      <td>NaN</td>\n",
       "      <td>NaN</td>\n",
       "      <td>NaN</td>\n",
       "    </tr>\n",
       "    <tr>\n",
       "      <th>6562</th>\n",
       "      <td>aou</td>\n",
       "      <td>A'ou</td>\n",
       "      <td>A'ou (aou)</td>\n",
       "      <td>NaN</td>\n",
       "      <td>NaN</td>\n",
       "      <td>NaN</td>\n",
       "      <td>NaN</td>\n",
       "    </tr>\n",
       "    <tr>\n",
       "      <th>6362</th>\n",
       "      <td>apq</td>\n",
       "      <td>A-Pucikwar</td>\n",
       "      <td>A-Pucikwar (apq)</td>\n",
       "      <td>NaN</td>\n",
       "      <td>NaN</td>\n",
       "      <td>NaN</td>\n",
       "      <td>NaN</td>\n",
       "    </tr>\n",
       "    <tr>\n",
       "      <th>2263</th>\n",
       "      <td>aiw</td>\n",
       "      <td>Aari</td>\n",
       "      <td>Aari (aiw)</td>\n",
       "      <td>NaN</td>\n",
       "      <td>NaN</td>\n",
       "      <td>NaN</td>\n",
       "      <td>NaN</td>\n",
       "    </tr>\n",
       "    <tr>\n",
       "      <th>...</th>\n",
       "      <td>...</td>\n",
       "      <td>...</td>\n",
       "      <td>...</td>\n",
       "      <td>...</td>\n",
       "      <td>...</td>\n",
       "      <td>...</td>\n",
       "      <td>...</td>\n",
       "    </tr>\n",
       "    <tr>\n",
       "      <th>4675</th>\n",
       "      <td>gnk</td>\n",
       "      <td>ǁGana</td>\n",
       "      <td>ǁGana (gnk)</td>\n",
       "      <td>NaN</td>\n",
       "      <td>NaN</td>\n",
       "      <td>NaN</td>\n",
       "      <td>NaN</td>\n",
       "    </tr>\n",
       "    <tr>\n",
       "      <th>3398</th>\n",
       "      <td>xeg</td>\n",
       "      <td>ǁXegwi</td>\n",
       "      <td>ǁXegwi (xeg)</td>\n",
       "      <td>NaN</td>\n",
       "      <td>NaN</td>\n",
       "      <td>NaN</td>\n",
       "      <td>NaN</td>\n",
       "    </tr>\n",
       "    <tr>\n",
       "      <th>6982</th>\n",
       "      <td>huc</td>\n",
       "      <td>ǂHua</td>\n",
       "      <td>ǂHua (huc)</td>\n",
       "      <td>NaN</td>\n",
       "      <td>NaN</td>\n",
       "      <td>NaN</td>\n",
       "      <td>NaN</td>\n",
       "    </tr>\n",
       "    <tr>\n",
       "      <th>92</th>\n",
       "      <td>gku</td>\n",
       "      <td>ǂUngkue</td>\n",
       "      <td>ǂUngkue (gku)</td>\n",
       "      <td>NaN</td>\n",
       "      <td>NaN</td>\n",
       "      <td>NaN</td>\n",
       "      <td>NaN</td>\n",
       "    </tr>\n",
       "    <tr>\n",
       "      <th>1440</th>\n",
       "      <td>nmn</td>\n",
       "      <td>ǃXóõ</td>\n",
       "      <td>ǃXóõ (nmn)</td>\n",
       "      <td>NaN</td>\n",
       "      <td>NaN</td>\n",
       "      <td>NaN</td>\n",
       "      <td>NaN</td>\n",
       "    </tr>\n",
       "  </tbody>\n",
       "</table>\n",
       "<p>7260 rows × 7 columns</p>\n",
       "</div>"
      ],
      "text/plain": [
       "     iso_693_3 language_name         toucan_id meta_mms_id coqui_id piper_id  \\\n",
       "1994       alu      'Are'are    'Are'are (alu)         NaN      NaN      NaN   \n",
       "1544       kud     'Auhelawa   'Auhelawa (kud)         NaN      NaN      NaN   \n",
       "6562       aou          A'ou        A'ou (aou)         NaN      NaN      NaN   \n",
       "6362       apq    A-Pucikwar  A-Pucikwar (apq)         NaN      NaN      NaN   \n",
       "2263       aiw          Aari        Aari (aiw)         NaN      NaN      NaN   \n",
       "...        ...           ...               ...         ...      ...      ...   \n",
       "4675       gnk         ǁGana       ǁGana (gnk)         NaN      NaN      NaN   \n",
       "3398       xeg        ǁXegwi      ǁXegwi (xeg)         NaN      NaN      NaN   \n",
       "6982       huc          ǂHua        ǂHua (huc)         NaN      NaN      NaN   \n",
       "92         gku       ǂUngkue     ǂUngkue (gku)         NaN      NaN      NaN   \n",
       "1440       nmn          ǃXóõ        ǃXóõ (nmn)         NaN      NaN      NaN   \n",
       "\n",
       "     espeak_id  \n",
       "1994       NaN  \n",
       "1544       NaN  \n",
       "6562       NaN  \n",
       "6362       NaN  \n",
       "2263       NaN  \n",
       "...        ...  \n",
       "4675       NaN  \n",
       "3398       NaN  \n",
       "6982       NaN  \n",
       "92         NaN  \n",
       "1440       NaN  \n",
       "\n",
       "[7260 rows x 7 columns]"
      ]
     },
     "execution_count": 42,
     "metadata": {},
     "output_type": "execute_result"
    }
   ],
   "source": [
    "model_lookups_by_iso"
   ]
  },
  {
   "cell_type": "code",
   "execution_count": 43,
   "id": "27cbe512-70ce-4638-bd12-d58d3328a709",
   "metadata": {
    "execution": {
     "iopub.execute_input": "2024-11-08T15:47:22.859970Z",
     "iopub.status.busy": "2024-11-08T15:47:22.858966Z",
     "iopub.status.idle": "2024-11-08T15:47:22.920565Z",
     "shell.execute_reply": "2024-11-08T15:47:22.920565Z",
     "shell.execute_reply.started": "2024-11-08T15:47:22.859970Z"
    }
   },
   "outputs": [],
   "source": [
    "# ALlow for a big picture analysis of model support by language\n",
    "model_support = model_lookups_by_iso.set_index(['iso_693_3']).isna().astype(int)\n",
    "model_support['n_platforms'] = model_support.sum(axis=1)\n",
    "\n",
    "model_support.to_csv(\"model_support.csv\")"
   ]
  }
 ],
 "metadata": {
  "kernelspec": {
   "display_name": "Python 3 (ipykernel)",
   "language": "python",
   "name": "python3"
  },
  "language_info": {
   "codemirror_mode": {
    "name": "ipython",
    "version": 3
   },
   "file_extension": ".py",
   "mimetype": "text/x-python",
   "name": "python",
   "nbconvert_exporter": "python",
   "pygments_lexer": "ipython3",
   "version": "3.11.8"
  }
 },
 "nbformat": 4,
 "nbformat_minor": 5
}
